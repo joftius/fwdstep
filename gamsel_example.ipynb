{
 "metadata": {
  "name": "",
  "signature": "sha256:7900fd2b35156a9e21089b32f8883b244c38ae728965ac97ce5e6b5f62f77bc4"
 },
 "nbformat": 3,
 "nbformat_minor": 0,
 "worksheets": [
  {
   "cells": [
    {
     "cell_type": "code",
     "collapsed": false,
     "input": [
      "%load_ext rmagic"
     ],
     "language": "python",
     "metadata": {},
     "outputs": [],
     "prompt_number": 1
    },
    {
     "cell_type": "code",
     "collapsed": false,
     "input": [
      "%%R\n",
      "source('gamsel/fwd_step.R')\n",
      "source('generate_data.R')\n",
      "source('gamsel/generate_gamsel.R')\n",
      "library(grplasso)"
     ],
     "language": "python",
     "metadata": {},
     "outputs": [
      {
       "metadata": {},
       "output_type": "display_data",
       "text": [
        "Loading required package: lattice\n"
       ]
      }
     ],
     "prompt_number": 2
    },
    {
     "cell_type": "code",
     "collapsed": false,
     "input": [
      "def_nsim, def_n, def_p, def_nonzero, def_linear = 50, 80, 50, 4, 1\n",
      "def_lower, def_upper, def_steps, def_S = 1, 2, 8, .9\n",
      "%Rpush def_nsim def_n def_p def_nonzero def_linear def_lower def_upper def_steps def_S"
     ],
     "language": "python",
     "metadata": {},
     "outputs": [],
     "prompt_number": 3
    },
    {
     "cell_type": "code",
     "collapsed": false,
     "input": [
      "%%R\n",
      "#set.seed(1)\n",
      "instance = function(n=def_n, p=def_p, num.nonzero=def_nonzero, num.linear=def_linear, lower=def_lower, upper=def_upper, max.steps=def_steps, S=def_S, compare=FALSE) {\n",
      "    # Create initial features\n",
      "    Z = matrix(rnorm(n*p), n, p)\n",
      "    groups = 1:p\n",
      "    # Create gamsel design matrix and group labels\n",
      "    gs.data = generate_gamsel(Z, groups)\n",
      "    Sigma = S^2 * diag(rep(1,n)) \n",
      "    X = gs.data$X\n",
      "    all.groups = gs.data$all.groups\n",
      "    spline.groups = gs.data$spline.groups\n",
      "    linear.groups = gs.data$linear.groups\n",
      "    Xnormed = frob_normalize(X, all.groups)    \n",
      "    # Create coefficient vector\n",
      "    b.data = beta_gamsel(groups, all.groups, spline.groups, num.nonzero, num.linear, upper, lower)\n",
      "    beta = b.data$beta\n",
      "    true.active = b.data$true.active\n",
      "    all.active = b.data$all.active\n",
      "    # Create response vector\n",
      "    Y = rnorm(n) * S + X %*% beta\n",
      "    # Run forward stepwise\n",
      "    fwd.data = forward_group(Xnormed, Y, all.groups, Sigma=Sigma, max.steps=max.steps)\n",
      "    outlist = list(true.as=true.active, fwd.as=fwd.data$active.set, true.all=all.active, pvals=fwd.data$p.vals)\n",
      "    # Compare to grplasso\n",
      "    if (compare) {\n",
      "        sink(\"/dev/null\")\n",
      "        L1 = fwd.data$Ls[1] #lambda_max(X, Y, all.groups)\n",
      "        L = sqrt(n)*L1\n",
      "\t    lastL = L\n",
      "        count=1\n",
      "        grplasso.fit = grplasso(x=Xnormed, y=Y, index=all.groups, model=LinReg(), lambda=L, center=FALSE)\n",
      "        gl.as = grplasso_as(grplasso.fit, all.groups)\n",
      "        gl.as.last = gl.as\n",
      "        # Start at a large lambda and decrease until nonzero groups at least num.nonzero-1\n",
      "        # Under-estimating sparsity here because we are interested in whether the early\n",
      "        # behavior is to only add linear features and not include splines\n",
      "        while(length(gl.as) < max.steps) { #num.nonzero) {\n",
      "\t    lastL = L\n",
      "            if (length(gl.as) > num.nonzero) {\n",
      "                L = L - L1/sqrt(count)\n",
      "            } else if (length(gl.as) >= num.nonzero-1) {\n",
      "                L = L - L1/sqrt(count/2)\n",
      "            } else {\n",
      "                L = L - L1\n",
      "            }\n",
      "            count = count + 1\n",
      "            grplasso.fit = grplasso(x=Xnormed, y=Y, index=all.groups, model=LinReg(), lambda=L, center=FALSE)\n",
      "            gl.as.last = gl.as\n",
      "            gl.as = grplasso_as(grplasso.fit, all.groups)\n",
      "        }\n",
      "        sink()\n",
      "        outlist$gl.as = gl.as\n",
      "        outlist$gl.as.last = gl.as.last\n",
      "        outlist$gl.iters = count\n",
      "    }\n",
      "    return(outlist)\n",
      "}\n",
      "\n",
      "print(instance(compare=TRUE)) #53,121,3,1,6))"
     ],
     "language": "python",
     "metadata": {},
     "outputs": [
      {
       "metadata": {},
       "output_type": "display_data",
       "text": [
        "$true.as\n",
        "[1] 27 55 60 92\n",
        "\n",
        "$fwd.as\n",
        "[1] 42 10 27  5 95 40 21 31\n",
        "\n",
        "$true.all\n",
        "[1] 27 10 42  5 60 92 55\n",
        "\n",
        "$pvals\n",
        "[1] 9.906085e-02 1.816675e-22 1.585404e-14 1.025944e-08 5.631764e-01\n",
        "[6] 4.923170e-01 8.561370e-01 9.379600e-01\n",
        "\n",
        "$gl.as\n",
        "[1]  5 10 27 28 40 42 45 60 80\n",
        "\n",
        "$gl.as.last\n",
        "[1]  5 10 27 28 42 45 60\n",
        "\n",
        "$gl.iters\n",
        "[1] 12\n",
        "\n"
       ]
      }
     ],
     "prompt_number": 4
    },
    {
     "cell_type": "code",
     "collapsed": false,
     "input": [
      "%%R\n",
      "simulation = function(nsim=def_nsim, n=def_n, p=def_p, num.nonzero=def_nonzero, num.linear=def_linear, lower=def_lower, upper=def_upper, max.steps=def_steps, S=def_S, compare=FALSE, plotting=FALSE) {\n",
      "    P = c()\n",
      "    fwd.pow = c()\n",
      "    fwd.splines = c()\n",
      "    grpl.pow = c()\n",
      "    grpl.splines = c()\n",
      "    grpl.size = c()\n",
      "    for (i in 1:nsim) {\n",
      "        output = instance(n, p, num.nonzero, num.linear, lower, upper, max.steps, S, compare)\n",
      "        num.nonzero = length(output$true.as)\n",
      "        grpl.as = output$gl.as\n",
      "        grpl.as.last = output$gl.as.last\n",
      "        fwd.as = output$fwd.as\n",
      "        true.as = output$true.as\n",
      "        if (length(grpl.as) <= max.steps+1) {\n",
      "            # grplasso active set not too much larger\n",
      "            gl.len = length(grpl.as)\n",
      "            fs.len = max.steps\n",
      "        } else {\n",
      "            # use active set from next to last step instead\n",
      "            gl.len = length(grpl.as.last)\n",
      "            grpl.as = grpl.as.last            \n",
      "            fs.len = min(max.steps, gl.len)\n",
      "        }\n",
      "        fwd.pow = c(fwd.pow, ave_pow(active=true.as, as=fwd.as[1:fs.len], num.nonzero=num.nonzero))\n",
      "        grpl.pow = c(grpl.pow, ave_pow(active=true.as, as=grpl.as, num.nonzero=num.nonzero))\n",
      "        fwd.splines = c(fwd.splines, sum(fwd.as[1:fs.len] > p)/fs.len) #num.nonzero)\n",
      "        grpl.splines = c(grpl.splines, sum(grpl.as > p)/gl.len)\n",
      "        grpl.size = c(grpl.size, gl.len)\n",
      "        P = rbind(P, output$pvals)\n",
      "    }\n",
      "    if (plotting) {\n",
      "        par(mfrow=c(2,2))\n",
      "        for (i in (num.nonzero-1):(num.nonzero+2)) {\n",
      "            plot(ecdf(P[,i]))\n",
      "            abline(0,1)\n",
      "        }\n",
      "    }\n",
      "\n",
      "    pow.out = data.frame(fwdstep=fwd.pow)\n",
      "    splines.out = data.frame(fwdstep=fwd.splines)\n",
      "    if (compare) {\n",
      "        pow.out$grplasso = grpl.pow\n",
      "        splines.out$grplasso = grpl.splines\n",
      "    }\n",
      "    print(\"Average power for fwdstep\")\n",
      "    print(summary(pow.out))\n",
      "    print(\"Proportion of included variables that are splines for fwdstep\")\n",
      "    print(summary(splines.out))\n",
      "    if (compare) {\n",
      "        print(\"number of variables in grplasso\")\n",
      "        print(summary(grpl.size))\n",
      "    }    \n",
      "}    \n"
     ],
     "language": "python",
     "metadata": {},
     "outputs": [],
     "prompt_number": 5
    },
    {
     "cell_type": "code",
     "collapsed": false,
     "input": [
      "%%R -h 800 -w 800\n",
      "simulation(max.steps=12, compare=TRUE)"
     ],
     "language": "python",
     "metadata": {},
     "outputs": [
      {
       "metadata": {},
       "output_type": "display_data",
       "text": [
        "[1] \"Average power for fwdstep\"\n",
        "    fwdstep        grplasso    \n",
        " Min.   :0.25   Min.   :0.250  \n",
        " 1st Qu.:0.25   1st Qu.:0.500  \n",
        " Median :0.25   Median :0.500  \n",
        " Mean   :0.25   Mean   :0.605  \n",
        " 3rd Qu.:0.25   3rd Qu.:0.750  \n",
        " Max.   :0.25   Max.   :1.000  \n",
        "[1] \"Proportion of included variables that are splines for fwdstep\"\n",
        "    fwdstep           grplasso     \n",
        " Min.   :0.00000   Min.   :0.0000  \n",
        " 1st Qu.:0.00000   1st Qu.:0.1919  \n",
        " Median :0.08333   Median :0.3333  \n",
        " Mean   :0.04935   Mean   :0.3248  \n",
        " 3rd Qu.:0.08333   3rd Qu.:0.4545  \n",
        " Max.   :0.12500   Max.   :0.6000  \n",
        "[1] \"number of variables in grplasso\"\n",
        "   Min. 1st Qu.  Median    Mean 3rd Qu.    Max. \n",
        "   8.00   11.00   12.00   11.18   12.00   13.00 \n"
       ]
      }
     ],
     "prompt_number": 6
    },
    {
     "cell_type": "code",
     "collapsed": false,
     "input": [
      "%%R -h 800 -w 800\n",
      "simulation(max.steps=def_nonzero, compare=TRUE)"
     ],
     "language": "python",
     "metadata": {},
     "outputs": [
      {
       "metadata": {},
       "output_type": "display_data",
       "text": [
        "[1] \"Average power for fwdstep\"\n",
        "    fwdstep         grplasso    \n",
        " Min.   :0.250   Min.   :0.250  \n",
        " 1st Qu.:0.250   1st Qu.:0.250  \n",
        " Median :0.250   Median :0.250  \n",
        " Mean   :0.255   Mean   :0.295  \n",
        " 3rd Qu.:0.250   3rd Qu.:0.250  \n",
        " Max.   :0.500   Max.   :1.000  \n",
        "[1] \"Proportion of included variables that are splines for fwdstep\"\n",
        "    fwdstep         grplasso    \n",
        " Min.   :0.000   Min.   :0.000  \n",
        " 1st Qu.:0.000   1st Qu.:0.000  \n",
        " Median :0.000   Median :0.000  \n",
        " Mean   :0.005   Mean   :0.038  \n",
        " 3rd Qu.:0.000   3rd Qu.:0.000  \n",
        " Max.   :0.250   Max.   :0.500  \n",
        "[1] \"number of variables in grplasso\"\n",
        "   Min. 1st Qu.  Median    Mean 3rd Qu.    Max. \n",
        "   4.00    4.00    4.00    4.14    4.00    6.00 \n"
       ]
      }
     ],
     "prompt_number": 7
    },
    {
     "cell_type": "code",
     "collapsed": false,
     "input": [
      "%%R -h 800 -w 800\n",
      "simulation(n=200, S=0.1, max.steps=12, compare=TRUE)"
     ],
     "language": "python",
     "metadata": {},
     "outputs": [
      {
       "metadata": {},
       "output_type": "display_data",
       "text": [
        "[1] \"Average power for fwdstep\"\n",
        "    fwdstep        grplasso    \n",
        " Min.   :0.25   Min.   :0.750  \n",
        " 1st Qu.:0.25   1st Qu.:1.000  \n",
        " Median :0.25   Median :1.000  \n",
        " Mean   :0.29   Mean   :0.995  \n",
        " 3rd Qu.:0.25   3rd Qu.:1.000  \n",
        " Max.   :0.50   Max.   :1.000  \n",
        "[1] \"Proportion of included variables that are splines for fwdstep\"\n",
        "    fwdstep           grplasso     \n",
        " Min.   :0.00000   Min.   :0.2000  \n",
        " 1st Qu.:0.09318   1st Qu.:0.3665  \n",
        " Median :0.11111   Median :0.4286  \n",
        " Mean   :0.10480   Mean   :0.4315  \n",
        " 3rd Qu.:0.13839   3rd Qu.:0.5000  \n",
        " Max.   :0.14286   Max.   :0.6154  \n",
        "[1] \"number of variables in grplasso\"\n",
        "   Min. 1st Qu.  Median    Mean 3rd Qu.    Max. \n",
        "   7.00    7.00    9.00    8.86   10.00   13.00 \n"
       ]
      }
     ],
     "prompt_number": 8
    },
    {
     "cell_type": "code",
     "collapsed": false,
     "input": [
      "%%R -h 800 -w 800\n",
      "simulation(n=200, S=0.1, max.steps=def_nonzero, compare=TRUE)"
     ],
     "language": "python",
     "metadata": {},
     "outputs": [
      {
       "metadata": {},
       "output_type": "display_data",
       "text": [
        "[1] \"Average power for fwdstep\"\n",
        "    fwdstep        grplasso   \n",
        " Min.   :0.25   Min.   :0.25  \n",
        " 1st Qu.:0.25   1st Qu.:0.25  \n",
        " Median :0.25   Median :0.25  \n",
        " Mean   :0.25   Mean   :0.29  \n",
        " 3rd Qu.:0.25   3rd Qu.:0.25  \n",
        " Max.   :0.25   Max.   :0.75  \n",
        "[1] \"Proportion of included variables that are splines for fwdstep\"\n",
        "    fwdstep     grplasso    \n",
        " Min.   :0   Min.   :0.000  \n",
        " 1st Qu.:0   1st Qu.:0.000  \n",
        " Median :0   Median :0.000  \n",
        " Mean   :0   Mean   :0.046  \n",
        " 3rd Qu.:0   3rd Qu.:0.000  \n",
        " Max.   :0   Max.   :0.500  \n",
        "[1] \"number of variables in grplasso\"\n",
        "   Min. 1st Qu.  Median    Mean 3rd Qu.    Max. \n",
        "   4.00    4.00    4.00    4.06    4.00    5.00 \n"
       ]
      }
     ],
     "prompt_number": 9
    },
    {
     "cell_type": "heading",
     "level": 2,
     "metadata": {},
     "source": [
      "grplasso also tends to pick linear terms first and has similar power to fwdstep"
     ]
    }
   ],
   "metadata": {}
  }
 ]
}