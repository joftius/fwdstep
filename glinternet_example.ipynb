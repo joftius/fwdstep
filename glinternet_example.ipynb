{
 "metadata": {
  "name": "",
  "signature": "sha256:7900fd2b35156a9e21089b32f8883b244c38ae728965ac97ce5e6b5f62f77bc4"
 },
 "nbformat": 3,
 "nbformat_minor": 0,
 "worksheets": [
  {
   "cells": [
    {
     "cell_type": "code",
     "collapsed": false,
     "input": [
      "%load_ext rmagic"
     ],
     "language": "python",
     "metadata": {},
     "outputs": [],
     "prompt_number": 1
    },
    {
     "cell_type": "code",
     "collapsed": false,
     "input": [
      "%%R\n",
      "source('glint/fwd_step.R')\n",
      "source('generate_data.R')\n",
      "library(grplasso)"
     ],
     "language": "python",
     "metadata": {},
     "outputs": [
      {
       "metadata": {},
       "output_type": "display_data",
       "text": [
        "Loading required package: lattice\n"
       ]
      }
     ],
     "prompt_number": 2
    },
    {
     "cell_type": "code",
     "collapsed": false,
     "input": [
      "def_nsim, def_n, def_p, def_nonzero, def_main = 50, 80, 20, 4, 1\n",
      "def_lower, def_upper, def_steps, def_S = 1, 2, 8, .9\n",
      "%Rpush def_nsim def_n def_p def_nonzero def_main def_lower def_upper def_steps def_S"
     ],
     "language": "python",
     "metadata": {},
     "outputs": [],
     "prompt_number": 3
    },
    {
     "cell_type": "code",
     "collapsed": false,
     "input": [
      "%%R\n",
      "#set.seed(1)\n",
      "instance = function(n=def_n, p=def_p, num.nonzero=def_nonzero, num.main=def_main, lower=def_lower, upper=def_upper, max.steps=def_steps, S=def_S, compare=FALSE) {\n",
      "    # Create initial features\n",
      "    Z = matrix(rnorm(n*p), n, p)\n",
      "    groups = 1:p\n",
      "    # Create gamsel design matrix and group labels\n",
      "    g.data = generate_glinternet(Z, groups)\n",
      "    Sigma = S^2 * diag(rep(1,n)) \n",
      "    X = g.data$X\n",
      "    all.groups = g.data$all.groups\n",
      "    int.groups = g.data$int.groups\n",
      "    main.groups = g.data$main.groups\n",
      "    Xnormed = frob_normalize(X, all.groups)    \n",
      "    # Create coefficient vector\n",
      "    b.data = beta_glinternet(groups, all.groups, int.groups, num.nonzero, num.main, upper, lower)\n",
      "    beta = b.data$beta\n",
      "    true.active = b.data$true.active\n",
      "    all.active = b.data$all.active\n",
      "    # Create response vector\n",
      "    Y = rnorm(n) * S + X %*% beta\n",
      "    # Run forward stepwise\n",
      "    fwd.data = forward_group(Xnormed, Y, all.groups, Sigma=Sigma, max.steps=max.steps)\n",
      "    outlist = list(true.as=true.active, fwd.as=fwd.data$active.set, true.all=all.active, pvals=fwd.data$p.vals)\n",
      "    # Compare to grplasso\n",
      "    if (compare) {\n",
      "        L1 = fwd.data$Ls[1] #lambda_max(X, Y, all.groups)\n",
      "        L = sqrt(n)*L1\n",
      "\tlastL = L\n",
      "        count=1\n",
      "        sink(\"/dev/null\")\n",
      "        grplasso.fit = grplasso(x=Xnormed, y=Y, index=all.groups, model=LinReg(), lambda=L, center=FALSE)\n",
      "        gl.as = grplasso_as(grplasso.fit, all.groups)\n",
      "\tgl.as.last = gl.as\n",
      "        # Start at a large lambda and decrease until nonzero groups at least num.nonzero-1\n",
      "        # Under-estimating sparsity here because we are interested in whether the early\n",
      "        # behavior is to only add main features and not include interactions\n",
      "        while(length(gl.as) < max.steps) {\n",
      "\t    lastL = L\n",
      "            if (length(gl.as) > num.nonzero) {\n",
      "                L = L - L1/sqrt(count)\n",
      "            } else if (length(gl.as) >= num.nonzero-1) {\n",
      "                L = L - L1/sqrt(count/2)\n",
      "            } else {\n",
      "\t\tL = L - L1\n",
      "\t    }\n",
      "            count = count + 1\n",
      "            grplasso.fit = grplasso(x=Xnormed, y=Y, index=all.groups, model=LinReg(), lambda=L, center=FALSE)\n",
      "\t    gl.as.last = gl.as\n",
      "            gl.as = grplasso_as(grplasso.fit, all.groups)\n",
      "        }\n",
      "        sink()\n",
      "        outlist$gl.as = gl.as\n",
      "\toutlist$gl.as.last = gl.as.last\n",
      "        outlist$gl.iters = count\n",
      "    }\n",
      "    return(outlist)\n",
      "}\n",
      "\n",
      "print(instance(compare=TRUE)) #53,121,3,1,6))"
     ],
     "language": "python",
     "metadata": {},
     "outputs": [
      {
       "metadata": {},
       "output_type": "display_data",
       "text": [
        "$true.as\n",
        "[1]  14 117 171 210\n",
        "\n",
        "$fwd.as\n",
        "[1]  14 117  11 210   1  17  10 137\n",
        "\n",
        "$true.all\n",
        " [1]  14  18  17  19   6  11  20 117 171 210\n",
        "\n",
        "$pvals\n",
        "[1] 4.295957e-33 7.497225e-34 6.315418e-03 2.382127e-20 5.128009e-01\n",
        "[6] 6.095641e-01 7.274199e-01 5.884326e-01\n",
        "\n",
        "$gl.as\n",
        "[1]   2   9  11  14  19  20 117 210\n",
        "\n",
        "$gl.as.last\n",
        "[1]   9  11  14  19  20 117 210\n",
        "\n",
        "$gl.iters\n",
        "[1] 12\n",
        "\n"
       ]
      }
     ],
     "prompt_number": 4
    },
    {
     "cell_type": "code",
     "collapsed": false,
     "input": [
      "%%R\n",
      "simulation = function(nsim=def_nsim, n=def_n, p=def_p, num.nonzero=def_nonzero, num.main=def_main, lower=def_lower, upper=def_upper, max.steps=def_steps, S=def_S, compare=FALSE, plotting=FALSE) {\n",
      "    P = c()\n",
      "    fwd.pow = c()\n",
      "    fwd.ints = c()\n",
      "    grpl.pow = c()\n",
      "    grpl.ints = c()\n",
      "    grpl.size = c()\n",
      "    \n",
      "    for (i in 1:nsim) {\n",
      "        output = instance(n, p, num.nonzero, num.main, lower, upper, max.steps, S, compare)\n",
      "        num.nonzero = length(output$true.as)\n",
      "        grpl.as = output$gl.as\n",
      "        grpl.as.last = output$gl.as.last\n",
      "        fwd.as = output$fwd.as\n",
      "        true.as = output$true.as\n",
      "        \n",
      "        if (length(grpl.as) <= max.steps+1) {\n",
      "            # grplasso active set not too much larger\n",
      "            gl.len = length(grpl.as)\n",
      "            fs.len = max.steps\n",
      "        } else {\n",
      "            # use active set from next to last step instead\n",
      "            gl.len = length(grpl.as.last)\n",
      "            grpl.as = grpl.as.last            \n",
      "            fs.len = min(max.steps, gl.len)\n",
      "        }\n",
      "        \n",
      "        fwd.pow = c(fwd.pow, ave_pow(active=true.as, as=fwd.as[1:fs.len], num.nonzero=num.nonzero))\n",
      "        grpl.pow = c(grpl.pow, ave_pow(active=true.as, as=grpl.as, num.nonzero=num.nonzero))\n",
      "        \n",
      "        fwd.ints = c(fwd.ints, sum(fwd.as[1:fs.len] > p)/fs.len) #num.nonzero)\n",
      "        grpl.ints = c(grpl.ints, sum(grpl.as > p)/gl.len)\n",
      "        \n",
      "        grpl.size = c(grpl.size, gl.len)\n",
      "        P = rbind(P, output$pvals)\n",
      "    }\n",
      "    \n",
      "    if (plotting) {\n",
      "        par(mfrow=c(2,2))\n",
      "        for (i in (def_nonzero-1):(def_nonzero+2)) {\n",
      "            plot(ecdf(P[,i]))\n",
      "            abline(0,1)\n",
      "        }\n",
      "    }\n",
      "    \n",
      "    pow.out = data.frame(fwdstep=fwd.pow)\n",
      "    ints.out = data.frame(fwdstep=fwd.ints)\n",
      "    if (compare) {\n",
      "        pow.out$grplasso = grpl.pow\n",
      "        ints.out$grplasso = grpl.ints\n",
      "    }\n",
      "    print(\"Average power for fwdstep\")\n",
      "    print(summary(pow.out))\n",
      "    print(\"Proportion of included variables that are interactions for fwdstep\")\n",
      "    print(summary(ints.out))\n",
      "    if (compare) {\n",
      "        print(\"number of variables in grplasso\")\n",
      "        print(summary(grpl.size))\n",
      "    }   \n",
      "}    "
     ],
     "language": "python",
     "metadata": {},
     "outputs": [],
     "prompt_number": 5
    },
    {
     "cell_type": "code",
     "collapsed": false,
     "input": [
      "%%R -h 800 -w 800\n",
      "simulation(max.steps = 12, compare=TRUE)"
     ],
     "language": "python",
     "metadata": {},
     "outputs": [
      {
       "metadata": {},
       "output_type": "display_data",
       "text": [
        "[1] \"Average power for fwdstep\"\n",
        "    fwdstep         grplasso   \n",
        " Min.   :0.500   Min.   :0.50  \n",
        " 1st Qu.:0.500   1st Qu.:0.75  \n",
        " Median :0.750   Median :0.75  \n",
        " Mean   :0.735   Mean   :0.80  \n",
        " 3rd Qu.:0.750   3rd Qu.:1.00  \n",
        " Max.   :1.000   Max.   :1.00  \n",
        "[1] \"Proportion of included variables that are interactions for fwdstep\"\n",
        "    fwdstep          grplasso     \n",
        " Min.   :0.1000   Min.   :0.1667  \n",
        " 1st Qu.:0.3333   1st Qu.:0.3333  \n",
        " Median :0.4083   Median :0.4167  \n",
        " Mean   :0.3995   Mean   :0.4314  \n",
        " 3rd Qu.:0.5000   3rd Qu.:0.5000  \n",
        " Max.   :0.5833   Max.   :0.6923  \n",
        "[1] \"number of variables in grplasso\"\n",
        "   Min. 1st Qu.  Median    Mean 3rd Qu.    Max. \n",
        "    9.0    12.0    12.0    11.8    12.0    13.0 \n"
       ]
      }
     ],
     "prompt_number": 6
    },
    {
     "cell_type": "code",
     "collapsed": false,
     "input": [
      "%%R -h 800 -w 800\n",
      "simulation(max.steps=def_nonzero, compare=TRUE)"
     ],
     "language": "python",
     "metadata": {},
     "outputs": [
      {
       "metadata": {},
       "output_type": "display_data",
       "text": [
        "[1] \"Average power for fwdstep\"\n",
        "    fwdstep         grplasso    \n",
        " Min.   :0.250   Min.   :0.000  \n",
        " 1st Qu.:0.250   1st Qu.:0.250  \n",
        " Median :0.250   Median :0.250  \n",
        " Mean   :0.375   Mean   :0.365  \n",
        " 3rd Qu.:0.500   3rd Qu.:0.500  \n",
        " Max.   :0.750   Max.   :0.750  \n",
        "[1] \"Proportion of included variables that are interactions for fwdstep\"\n",
        "    fwdstep         grplasso     \n",
        " Min.   :0.000   Min.   :0.0000  \n",
        " 1st Qu.:0.000   1st Qu.:0.0000  \n",
        " Median :0.000   Median :0.0000  \n",
        " Mean   :0.135   Mean   :0.1064  \n",
        " 3rd Qu.:0.250   3rd Qu.:0.2500  \n",
        " Max.   :0.500   Max.   :0.5000  \n",
        "[1] \"number of variables in grplasso\"\n",
        "   Min. 1st Qu.  Median    Mean 3rd Qu.    Max. \n",
        "   4.00    4.00    4.00    4.52    5.00    7.00 \n"
       ]
      }
     ],
     "prompt_number": 7
    },
    {
     "cell_type": "code",
     "collapsed": false,
     "input": [
      "%%R -h 800 -w 800\n",
      "simulation(n=150, S=0.1, max.steps=12, compare=TRUE)"
     ],
     "language": "python",
     "metadata": {},
     "outputs": [
      {
       "metadata": {},
       "output_type": "display_data",
       "text": [
        "[1] \"Average power for fwdstep\"\n",
        "    fwdstep         grplasso   \n",
        " Min.   :0.500   Min.   :0.75  \n",
        " 1st Qu.:1.000   1st Qu.:1.00  \n",
        " Median :1.000   Median :1.00  \n",
        " Mean   :0.985   Mean   :0.99  \n",
        " 3rd Qu.:1.000   3rd Qu.:1.00  \n",
        " Max.   :1.000   Max.   :1.00  \n",
        "[1] \"Proportion of included variables that are interactions for fwdstep\"\n",
        "    fwdstep          grplasso     \n",
        " Min.   :0.1250   Min.   :0.2500  \n",
        " 1st Qu.:0.3333   1st Qu.:0.3333  \n",
        " Median :0.4286   Median :0.3750  \n",
        " Mean   :0.4216   Mean   :0.3881  \n",
        " 3rd Qu.:0.5000   3rd Qu.:0.4444  \n",
        " Max.   :0.7273   Max.   :0.5833  \n",
        "[1] \"number of variables in grplasso\"\n",
        "   Min. 1st Qu.  Median    Mean 3rd Qu.    Max. \n",
        "   6.00    9.00   10.00    9.76   11.00   13.00 \n"
       ]
      }
     ],
     "prompt_number": 8
    },
    {
     "cell_type": "code",
     "collapsed": false,
     "input": [
      "%%R -h 800 -w 800\n",
      "simulation(n=150, S=0.1, max.steps=def_nonzero, compare=TRUE)"
     ],
     "language": "python",
     "metadata": {},
     "outputs": [
      {
       "metadata": {},
       "output_type": "display_data",
       "text": [
        "[1] \"Average power for fwdstep\"\n",
        "    fwdstep        grplasso    \n",
        " Min.   :0.00   Min.   :0.250  \n",
        " 1st Qu.:0.25   1st Qu.:0.250  \n",
        " Median :0.25   Median :0.375  \n",
        " Mean   :0.37   Mean   :0.415  \n",
        " 3rd Qu.:0.50   3rd Qu.:0.500  \n",
        " Max.   :1.00   Max.   :0.750  \n",
        "[1] \"Proportion of included variables that are interactions for fwdstep\"\n",
        "    fwdstep        grplasso      \n",
        " Min.   :0.00   Min.   :0.00000  \n",
        " 1st Qu.:0.00   1st Qu.:0.00000  \n",
        " Median :0.00   Median :0.07143  \n",
        " Mean   :0.13   Mean   :0.13110  \n",
        " 3rd Qu.:0.25   3rd Qu.:0.25000  \n",
        " Max.   :0.75   Max.   :0.50000  \n",
        "[1] \"number of variables in grplasso\"\n",
        "   Min. 1st Qu.  Median    Mean 3rd Qu.    Max. \n",
        "   4.00    4.00    4.00    4.78    5.75    8.00 \n"
       ]
      }
     ],
     "prompt_number": 9
    },
    {
     "cell_type": "heading",
     "level": 2,
     "metadata": {},
     "source": [
      "grplasso also tends to pick main terms first and has similar power to fwdstep"
     ]
    }
   ],
   "metadata": {}
  }
 ]
}