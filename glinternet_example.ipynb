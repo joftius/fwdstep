{
 "metadata": {
  "name": "",
  "signature": "sha256:7900fd2b35156a9e21089b32f8883b244c38ae728965ac97ce5e6b5f62f77bc4"
 },
 "nbformat": 3,
 "nbformat_minor": 0,
 "worksheets": [
  {
   "cells": [
    {
     "cell_type": "code",
     "collapsed": false,
     "input": [
      "%load_ext rmagic"
     ],
     "language": "python",
     "metadata": {},
     "outputs": [],
     "prompt_number": 1
    },
    {
     "cell_type": "code",
     "collapsed": false,
     "input": [
      "%%R\n",
      "source('glint/fwd_step.R')\n",
      "source('generate_data.R')\n",
      "library(grplasso)"
     ],
     "language": "python",
     "metadata": {},
     "outputs": [
      {
       "metadata": {},
       "output_type": "display_data",
       "text": [
        "Loading required package: lattice\n"
       ]
      }
     ],
     "prompt_number": 2
    },
    {
     "cell_type": "code",
     "collapsed": false,
     "input": [
      "def_nsim, def_n, def_p, def_nonzero, def_main = 50, 100, 40, 4, 1\n",
      "def_lower, def_upper, def_steps, def_S = 5, 10, 8, .9\n",
      "%Rpush def_nsim def_n def_p def_nonzero def_main def_lower def_upper def_steps def_S"
     ],
     "language": "python",
     "metadata": {},
     "outputs": [],
     "prompt_number": 3
    },
    {
     "cell_type": "code",
     "collapsed": false,
     "input": [
      "%%R\n",
      "#set.seed(1)\n",
      "instance = function(n=def_n, p=def_p, num.nonzero=def_nonzero, num.main=def_main, lower=def_lower, upper=def_upper, max.steps=def_steps, S=def_S, compare=FALSE) {\n",
      "    # Create initial features\n",
      "    Z = matrix(rnorm(n*p), n, p)\n",
      "    groups = 1:p\n",
      "    # Create gamsel design matrix and group labels\n",
      "    g.data = generate_glinternet(Z, groups)\n",
      "    Sigma = S^2 * diag(rep(1,n)) \n",
      "    X = g.data$X\n",
      "    all.groups = g.data$all.groups\n",
      "    int.groups = g.data$int.groups\n",
      "    main.groups = g.data$main.groups\n",
      "    Xnormed = frob_normalize(X, all.groups)    \n",
      "    # Create coefficient vector\n",
      "    b.data = beta_glinternet(groups, all.groups, int.groups, num.nonzero, num.main, upper, lower)\n",
      "    beta = b.data$beta\n",
      "    true.active = b.data$true.active\n",
      "    all.active = b.data$all.active\n",
      "    # Create response vector\n",
      "    Y = rnorm(n) * S + X %*% beta\n",
      "    # Run forward stepwise\n",
      "    fwd.data = forward_group(Xnormed, Y, all.groups, Sigma=Sigma, max.steps=max.steps)\n",
      "    outlist = list(true.as=true.active, fwd.as=fwd.data$active.set, true.all=all.active, pvals=fwd.data$p.vals)\n",
      "    # Compare to grplasso\n",
      "    if (compare) {\n",
      "        L1 = lambda_max(X, Y, all.groups)\n",
      "        L = 0.9*L1\n",
      "        count=1\n",
      "        sink(\"/dev/null\")\n",
      "        grplasso.fit = grplasso(x=Xnormed, y=Y, index=all.groups, model=LinReg(), lambda=L, center=FALSE)\n",
      "        gl.as = grplasso_as(grplasso.fit, all.groups)\n",
      "        # Start at a large lambda and decrease until nonzero groups at least num.nonzero-1\n",
      "        # Under-estimating sparsity here because we are interested in whether the early\n",
      "        # behavior is to only add main features and not include interactions\n",
      "        while(length(gl.as) < num.nonzero) {\n",
      "            L = L - count*sqrt(L1)           \n",
      "            count = count + 1\n",
      "            grplasso.fit = grplasso(x=X, y=Y, index=all.groups, model=LinReg(), lambda=L, center=FALSE)\n",
      "            gl.as = grplasso_as(grplasso.fit, all.groups)\n",
      "        }\n",
      "        sink()\n",
      "        outlist$gl.as = gl.as\n",
      "        outlist$gl.iters = count\n",
      "    }\n",
      "    return(outlist)\n",
      "}\n",
      "\n",
      "print(instance(compare=TRUE)) #53,121,3,1,6))"
     ],
     "language": "python",
     "metadata": {},
     "outputs": [
      {
       "metadata": {},
       "output_type": "display_data",
       "text": [
        "$true.as\n",
        "[1]  28 111 336 482\n",
        "\n",
        "$fwd.as\n",
        "[1]  28  21 482 336  34   2 111   6\n",
        "\n",
        "$true.all\n",
        " [1]  28  27  34   9  14   2  21 482 111 336\n",
        "\n",
        "$pvals\n",
        "[1]  0.000000e+00 3.130343e-112 1.882083e-286 1.463969e-292  2.009638e-22\n",
        "[6]  1.190450e-12  0.000000e+00  6.211380e-01\n",
        "\n",
        "$gl.as\n",
        "[1]  21  28  34 336 482\n",
        "\n",
        "$gl.iters\n",
        "[1] 6\n",
        "\n"
       ]
      }
     ],
     "prompt_number": 4
    },
    {
     "cell_type": "code",
     "collapsed": false,
     "input": [
      "%%R\n",
      "simulation = function(nsim=def_nsim, n=def_n, p=def_p, num.nonzero=def_nonzero, num.main=def_main, lower=def_lower, upper=def_upper, max.steps=def_steps, S=def_S, compare=FALSE, plotting=FALSE) {\n",
      "    P = c()\n",
      "    fwd.pow = c()\n",
      "    fwd.splines = c()\n",
      "    grpl.pow = c()\n",
      "    grpl.splines = c()\n",
      "    grpl.size = c()\n",
      "    for (i in 1:nsim) {\n",
      "        output = instance(n, p, num.nonzero, num.main, lower, upper, max.steps, S, compare)\n",
      "        num.nonzero = length(output$true.as)\n",
      "        # For those cases where grplasso accidentally has too many variables,\n",
      "        # permute because they are sorted by default\n",
      "        grpl.as = sample(output$gl.as)[1:num.nonzero]\n",
      "        grpl.as = grpl.as[!is.na(grpl.as)]\n",
      "        fwd.pow = c(fwd.pow, ave_pow(active=output$true.as, as=output$fwd.as, num.nonzero=num.nonzero))\n",
      "        grpl.pow = c(fwd.pow, ave_pow(active=output$true.as, as=grpl.as, num.nonzero=num.nonzero))\n",
      "        fwd.splines = c(fwd.splines, sum(output$fwd.as[1:num.nonzero] > p)/def_nonzero)\n",
      "        grpl.splines = c(grpl.splines, (sum(grpl.as) > p)/length(output$gl.as))\n",
      "        grpl.size = c(grpl.size, length(output$gl.as))\n",
      "        P = rbind(P, output$pvals)\n",
      "    }\n",
      "    if (plotting) {\n",
      "        par(mfrow=c(2,2))\n",
      "        for (i in (def_nonzero-1):(def_nonzero+2)) {\n",
      "            plot(ecdf(P[,i]))\n",
      "            abline(0,1)\n",
      "        }\n",
      "    }\n",
      "    print(\"Average power for fwdstep\")\n",
      "    print(summary(fwd.pow))\n",
      "    if (compare) {\n",
      "        print(\"...and for grplasso\")\n",
      "        print(summary(grpl.pow))\n",
      "    }\n",
      "    print(\"Proportion of included variables that are interactions for fwdstep\")\n",
      "    print(summary(fwd.splines))\n",
      "    if (compare) {\n",
      "        print(\"...and for grplasso\")\n",
      "        print(summary(grpl.splines))\n",
      "        print(\"number of variables in grplasso\")\n",
      "        print(summary(grpl.size))\n",
      "    }    \n",
      "}    "
     ],
     "language": "python",
     "metadata": {},
     "outputs": [],
     "prompt_number": 5
    },
    {
     "cell_type": "code",
     "collapsed": false,
     "input": [
      "%%R -h 800 -w 800\n",
      "simulation(compare=TRUE)"
     ],
     "language": "python",
     "metadata": {},
     "outputs": [
      {
       "metadata": {},
       "output_type": "display_data",
       "text": [
        "[1] \"Average power for fwdstep\"\n",
        "   Min. 1st Qu.  Median    Mean 3rd Qu.    Max. \n",
        "   0.00    0.25    0.25    0.36    0.50    0.75 \n",
        "[1] \"...and for grplasso\"\n",
        "   Min. 1st Qu.  Median    Mean 3rd Qu.    Max. \n",
        " 0.0000  0.2500  0.2500  0.3627  0.5000  0.7500 \n",
        "[1] \"Proportion of included variables that are interactions for fwdstep\"\n",
        "   Min. 1st Qu.  Median    Mean 3rd Qu.    Max. \n",
        "  0.000   0.000   0.000   0.115   0.250   0.500 \n",
        "[1] \"...and for grplasso\"\n",
        "   Min. 1st Qu.  Median    Mean 3rd Qu.    Max. \n",
        " 0.1667  0.2500  0.2500  0.2423  0.2500  0.2500 \n",
        "[1] \"number of variables in grplasso\"\n",
        "   Min. 1st Qu.  Median    Mean 3rd Qu.    Max. \n",
        "   4.00    4.00    4.00    4.16    4.00    6.00 \n"
       ]
      }
     ],
     "prompt_number": 6
    },
    {
     "cell_type": "code",
     "collapsed": false,
     "input": [
      "%%R -h 800 -w 800\n",
      "simulation(n=200, p=20, num.nonzero=3, S=0.01, compare=TRUE)"
     ],
     "language": "python",
     "metadata": {},
     "outputs": [
      {
       "metadata": {},
       "output_type": "display_data",
       "text": [
        "[1] \"Average power for fwdstep\"\n",
        "   Min. 1st Qu.  Median    Mean 3rd Qu.    Max. \n",
        " 0.3333  0.3333  0.3333  0.4000  0.3333  1.0000 \n",
        "[1] \"...and for grplasso\"\n",
        "   Min. 1st Qu.  Median    Mean 3rd Qu.    Max. \n",
        " 0.3333  0.3333  0.3333  0.3987  0.3333  1.0000 \n",
        "[1] \"Proportion of included variables that are interactions for fwdstep\"\n",
        "   Min. 1st Qu.  Median    Mean 3rd Qu.    Max. \n",
        "   0.00    0.00    0.00    0.05    0.00    0.50 \n",
        "[1] \"...and for grplasso\"\n",
        "   Min. 1st Qu.  Median    Mean 3rd Qu.    Max. \n",
        " 0.0000  0.2000  0.2917  0.2550  0.3333  0.3333 \n",
        "[1] \"number of variables in grplasso\"\n",
        "   Min. 1st Qu.  Median    Mean 3rd Qu.    Max. \n",
        "   3.00    3.00    3.00    3.64    4.00    6.00 \n"
       ]
      }
     ],
     "prompt_number": 6
    },
    {
     "cell_type": "heading",
     "level": 2,
     "metadata": {},
     "source": [
      "grplasso also tends to pick main terms first and has similar power to fwdstep"
     ]
    }
   ],
   "metadata": {}
  }
 ]
}