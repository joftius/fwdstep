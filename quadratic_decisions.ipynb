{
 "metadata": {
  "name": "",
  "signature": "sha256:5a8121cc93773a56135e809eac2a217f6f2ff8035f15cd3c71ea4934d0c70fc6"
 },
 "nbformat": 3,
 "nbformat_minor": 0,
 "worksheets": [
  {
   "cells": [
    {
     "cell_type": "markdown",
     "metadata": {},
     "source": [
      "We are interested in inference after a selection procedure, say, $S$, for\n",
      "which the selection event is the intersection of a list of quadratic inequalities:\n",
      "\n",
      "$$\n",
      "\\begin{aligned}\n",
      "\\{S(y)=s\\} = \\cap_{i \\in I(s)} \\{y: y^TQ_iy + a_i^Ty\\leq b_i \\}.\n",
      "\\end{aligned}\n",
      "$$\n",
      "\n",
      "The quadratic forms are not assumed non-negative definite, but we can, without loss of generality\n",
      "assume they are symmetric.\n",
      "\n",
      "## Example: first step of forward stepwise\n",
      "\n",
      "If we consider forward stepwise with groups the selection procedure is just\n",
      "choosing the first group, $g^*$ and we have\n",
      "$$\n",
      "\\{g^*(y)=g\\} =  \\cap_{h \\neq g} \\{y: y^T(X_hX_h^T/w_h^2 - X_gX_g^T/w_g^2)y \\leq 0\\}.\n",
      "$$"
     ]
    },
    {
     "cell_type": "markdown",
     "metadata": {},
     "source": [
      "We want to slice through the selection event along a ray with direction $\\eta$ that passes through $y$. \n",
      "That is, we need to find\n",
      "$$\n",
      "\\begin{aligned}\n",
      "\\left\\{t: S(y+t\\eta)=s \\right\\} &= \\cap_{i \\in I(s)} \\left\\{t: (y+t\\eta)^T Q_i (y+t\\eta) + a_i^T(y+t\\eta) \\leq b_i\\right\\}. \\\\\n",
      "\\end{aligned}\n",
      "$$\n",
      "\n",
      "For any given $i \\in I(s)$ we see that\n",
      "$$\n",
      "\\begin{aligned}\n",
      "\\left\\{t: (y+t\\eta)^T Q_i (y+t\\eta) + a_i^T(y+t\\eta) \\leq b_i\\right\\} &= \\left\\{t: t^2 \\cdot \\eta^TQ_i\\eta + t \\cdot(2 y^TQ_i\\eta + a_i^T\\eta) + y^TQ_iy + a_i^Ty - b_i \\leq 0 \\right\\} \\\\\n",
      "&= \\text{Intervals}(Q_i,a_i,b_i,y,\\eta)\n",
      "\\end{aligned}\n",
      "$$\n",
      "\n",
      "Each value of $\\text{Intervals}(Q_i,a_i,b_i,y,\\eta)$ above is one of:\n",
      "- $\\emptyset$, in which case the selection event is also the $\\emptyset$ (so this never occurs);\n",
      "- $(-\\infty, L(Q_i,a_i,b_i,y,\\eta)] \\cap [U(Q_i,a_i,b_i,y,\\eta), \\infty)$ if $\\eta^TQ_i\\eta < 0$;\n",
      "- $[L(Q_i,a_i,b_i,y,\\eta), U(Q_i,a_i,b_i,y,\\eta)]$ if $\\eta^TQ_i\\eta > 0$;\n",
      "- $(-\\infty, L(Q_i,a_i,b_i,y,\\eta)]$ if $\\eta^TQ_i\\eta=0$ and $2 y^TQ_i\\eta + a_i^T\\eta > 0$;\n",
      "- $[U(Q_i,a_i,b_i,y,\\eta), \\infty)$ if $\\eta^TQ_i\\eta=0$ and $2 y^TQ_i\\eta + a_i^T\\eta < 0$;\n",
      "- $(-\\infty,\\infty)$ if $\\eta^TQ_i\\eta=0, 2 y^TQ_i\\eta + a_i^T\\eta = 0$ and $y^TQ_iy + a_i^Ty - b_i \\leq 0$."
     ]
    },
    {
     "cell_type": "code",
     "collapsed": false,
     "input": [
      "import numpy as np\n",
      "%load_ext rmagic\n",
      "\n",
      "DEBUG = False"
     ],
     "language": "python",
     "metadata": {},
     "outputs": [],
     "prompt_number": 1
    },
    {
     "cell_type": "code",
     "collapsed": false,
     "input": [
      "def Intervals(Q, a, b, y, eta, tol=1.e-8):\n",
      "    quad_term = (eta * np.dot(Q, eta)).sum()\n",
      "    linear_term = 2 * (y * np.dot(Q, eta)).sum() + (a * eta).sum()\n",
      "    constant_term = (y * np.dot(Q, y)).sum() + (a * y).sum() - b\n",
      "\n",
      "    if DEBUG: print quad_term, linear_term, constant_term\n",
      "\n",
      "    discr = linear_term**2 - 4 * quad_term * constant_term \n",
      "    if discr < 0:\n",
      "        if DEBUG: print 'case5'\n",
      "        return []\n",
      "    elif np.fabs(quad_term / constant_term) > tol:\n",
      "        L, U = sorted(((- linear_term - np.sqrt(discr)) / (2 * quad_term),\n",
      "                    (- linear_term + np.sqrt(discr)) / (2 * quad_term)))\n",
      "        if quad_term < 0:\n",
      "            if DEBUG: print 'case1'\n",
      "            return [(-np.inf,L), (U, np.inf)]\n",
      "        else:\n",
      "            if DEBUG: print 'case2', discr\n",
      "            return [(L, U)]\n",
      "    elif np.fabs(linear_term / constant_term) > tol:\n",
      "        if linear_term > 0:\n",
      "            if DEBUG: print 'case3'\n",
      "            return [(-np.inf, -constant_term / linear_term)]\n",
      "        else:\n",
      "            if DEBUG: print 'case4'\n",
      "            return [(-constant_term, np.inf)]\n",
      "    elif constant_term < 0:\n",
      "        if DEBUG: print 'case5'\n",
      "        return [(-np.inf,np.inf)]\n",
      "    else:\n",
      "        if DEBUG: print 'case6'\n",
      "        return []\n"
     ],
     "language": "python",
     "metadata": {},
     "outputs": [],
     "prompt_number": 2
    },
    {
     "cell_type": "code",
     "collapsed": false,
     "input": [
      "Q1, Q2, Q3, Q4 = np.identity(4)\n",
      "y1, eta1, a1 = np.random.standard_normal((3,4))\n",
      "b1 = 0\n",
      "Intervals(Q1, a1, b1, y1, eta1)"
     ],
     "language": "python",
     "metadata": {},
     "outputs": [
      {
       "metadata": {},
       "output_type": "pyout",
       "prompt_number": 3,
       "text": [
        "[(-inf, -33.071715300525987), (-0.56900265771641134, inf)]"
       ]
      }
     ],
     "prompt_number": 3
    },
    {
     "cell_type": "code",
     "collapsed": false,
     "input": [
      "Q2 = -np.identity(4)\n",
      "y2, eta2, a2 = np.random.standard_normal((3,4))\n",
      "b2 = 0\n",
      "Intervals(Q2, a2, b2, y2, eta2)"
     ],
     "language": "python",
     "metadata": {},
     "outputs": [
      {
       "metadata": {},
       "output_type": "pyout",
       "prompt_number": 4,
       "text": [
        "[]"
       ]
      }
     ],
     "prompt_number": 4
    },
    {
     "cell_type": "code",
     "collapsed": false,
     "input": [
      "Q = np.zeros((4,4))\n",
      "y, eta, a = np.random.standard_normal((3,4))\n",
      "b = 0\n",
      "Intervals(Q, a, b, y, eta)"
     ],
     "language": "python",
     "metadata": {},
     "outputs": [
      {
       "metadata": {},
       "output_type": "pyout",
       "prompt_number": 5,
       "text": [
        "[(1.2285025035256429, inf)]"
       ]
      }
     ],
     "prompt_number": 5
    },
    {
     "cell_type": "code",
     "collapsed": false,
     "input": [
      "Q = np.diag([-1,-1,1,1])\n",
      "y, eta, a = np.random.standard_normal((3,4))\n",
      "b = 0\n",
      "Intervals(Q, a, b, y, eta)"
     ],
     "language": "python",
     "metadata": {},
     "outputs": [
      {
       "metadata": {},
       "output_type": "pyout",
       "prompt_number": 6,
       "text": [
        "[(-inf, -0.031115200377361391), (2.0943924310909807, inf)]"
       ]
      }
     ],
     "prompt_number": 6
    },
    {
     "cell_type": "markdown",
     "metadata": {},
     "source": [
      "To find the intersection of a set of intervals, one\n",
      "only needs to track the upper and lower bounds. In our case,\n",
      "there will be some intervals and some complements of intervals.\n",
      "\n",
      "This can be handled by handling the union of the complements and then taking the complement."
     ]
    },
    {
     "cell_type": "code",
     "collapsed": false,
     "input": [
      "def find_intersection(y, eta, *quadratic_list):\n",
      "    '''\n",
      "    Find the intersection of \n",
      "    \n",
      "    [Interval(Q, a, b, y, eta) for Q, a, b in quadratic_list]\n",
      "    '''\n",
      "    \n",
      "    upper_int, lower_int = (np.inf, -np.inf)\n",
      "    upper_union, lower_union = (-np.inf, np.inf)\n",
      "\n",
      "    for Q, a, b in quadratic_list:\n",
      "        intervals = Intervals(Q, a, b, y, eta)\n",
      "        if DEBUG: print intervals\n",
      "        if len(intervals) == 1: # a single interval\n",
      "            upper_int = min(upper_int, intervals[0][1])\n",
      "            lower_int = max(upper_int, intervals[0][0])\n",
      "        elif len(intervals) == 2: # complement of an interval\n",
      "            L, U = intervals[0][1], intervals[1][0] # by construction our intervals always have this form\n",
      "            # could also use sorted(intervals[np.isfinite(intervals)])\n",
      "            upper_union = max(upper_union, U)\n",
      "            lower_union = min(lower_union, L)\n",
      "    complement = [(-np.inf,lower_union),(upper_union, np.inf)]\n",
      "    \n",
      "    if upper_int < upper_union and lower_int > lower_union:\n",
      "        return [] # the intersection of the intervals is in the complement\n",
      "    elif upper_int >= upper_union:\n",
      "        if lower_int >= lower_union:\n",
      "            if DEBUG: print 'case1'\n",
      "            return [(max(lower_int, lower_union), upper_int)]\n",
      "        else:\n",
      "            if DEBUG: print 'case2'\n",
      "            return [(lower_int, lower_union), (upper_union, upper_int)]\n",
      "    else: # lower_int <= lower_union\n",
      "        if upper_int <= upper_union:\n",
      "            if DEBUG: print 'case3'\n",
      "            return [(lower_int, min(upper_int, upper_union))]\n",
      "        else:\n",
      "            if DEBUG: print 'case4'\n",
      "            return [(lower_int, lower_union), (upper_int, upper_union)]\n",
      "            "
     ],
     "language": "python",
     "metadata": {},
     "outputs": [],
     "prompt_number": 7
    },
    {
     "cell_type": "code",
     "collapsed": false,
     "input": [
      "%%R -o X,Y,groups,weights,sigma\n",
      "source('group_lasso.R')\n",
      "set.seed(0)\n",
      "n = 20\n",
      "p = 10\n",
      "sigma = 1.3\n",
      "Sigma = 1.3^2 * diag(rep(1,n))\n",
      "X = matrix(rnorm(n*p),n,p)\n",
      "Y = rnorm(n)*sigma\n",
      "groups = c(1,1,2,2,2,3,3,4,4,5)\n",
      "weights = c(2,2.5,2,2,1.4)\n",
      "results = group_lasso_knot(X, Y, groups, weights, Sigma)\n",
      "Z = results$L / (sqrt(results$var))\n",
      "Zlower = results$lower_bound / (sqrt(results$var))\n",
      "print(data.frame(Z,Zlower))\n",
      "print(pvalue(results$L, results$lower_bound, results$upper_bound, sqrt(results$var), results$k))"
     ],
     "language": "python",
     "metadata": {},
     "outputs": [
      {
       "metadata": {},
       "output_type": "display_data",
       "text": [
        "         Z   Zlower\n",
        "1 2.650602 1.296633\n",
        "[1] 0.06909894\n"
       ]
      }
     ],
     "prompt_number": 8
    },
    {
     "cell_type": "code",
     "collapsed": false,
     "input": [
      "%%R\n",
      "print(results)"
     ],
     "language": "python",
     "metadata": {},
     "outputs": [
      {
       "metadata": {},
       "output_type": "display_data",
       "text": [
        "$L\n",
        "[1] 8.502982\n",
        "\n",
        "$lower_bound\n",
        "[1] 4.159526\n",
        "\n",
        "$upper_bound\n",
        "[1] Inf\n",
        "\n",
        "$var\n",
        "[1] 10.29091\n",
        "\n",
        "$k\n",
        "[1] 2\n",
        "\n",
        "$i\n",
        "[1] 4\n",
        "\n"
       ]
      }
     ],
     "prompt_number": 9
    },
    {
     "cell_type": "code",
     "collapsed": false,
     "input": [
      "Qs = []\n",
      "Xs = []\n",
      "norms = []\n",
      "for g, w in zip(np.unique(groups), weights):\n",
      "    Xg = X[:,groups==g] / w\n",
      "    Qs.append(np.dot(Xg, Xg.T))\n",
      "    Xs.append(Xg)\n",
      "    norms.append(np.linalg.norm(np.dot(Xg.T,Y)))\n",
      "max(norms)"
     ],
     "language": "python",
     "metadata": {},
     "outputs": [
      {
       "metadata": {},
       "output_type": "pyout",
       "prompt_number": 10,
       "text": [
        "8.5029821317815024"
       ]
      }
     ],
     "prompt_number": 10
    },
    {
     "cell_type": "code",
     "collapsed": false,
     "input": [
      "imax = np.argmax(norms)\n",
      "P = np.dot(Xs[imax], np.linalg.pinv(Xs[imax]))\n",
      "eta = np.dot(P, Y)\n",
      "eta /= np.linalg.norm(eta)\n",
      "W = (eta*Y).sum() \n",
      "final_Qs = []\n",
      "for i in range(len(Qs)):\n",
      "    if i != imax:\n",
      "        final_Qs.append((Qs[i] - Qs[imax]).copy())\n",
      "I1, I2 = find_intersection(Y, eta, *[(Q, 0, 0) for Q in final_Qs])"
     ],
     "language": "python",
     "metadata": {},
     "outputs": [],
     "prompt_number": 11
    },
    {
     "cell_type": "markdown",
     "metadata": {},
     "source": [
      "For the group LASSO first step, what we called `Zlower` can be recoverd from `W` and `I2[0]`.\n",
      "I'm not quite sure what can be done with `I1`, if anything. It can probably be used to get a little more power,\n",
      "but I'm not 100% sure."
     ]
    },
    {
     "cell_type": "code",
     "collapsed": false,
     "input": [
      "V1, V2 = W / sigma, (W+I2[0]) / sigma\n",
      "%R -i V1,V2\n",
      "V1, V2\n"
     ],
     "language": "python",
     "metadata": {},
     "outputs": [
      {
       "metadata": {},
       "output_type": "pyout",
       "prompt_number": 12,
       "text": [
        "(array([ 2.65060154]), array([ 1.29663281]))"
       ]
      }
     ],
     "prompt_number": 12
    },
    {
     "cell_type": "code",
     "collapsed": false,
     "input": [
      "%%R\n",
      "print((1 - pchisq(V1^2, results$k)) / (1 - pchisq(V2^2, results$k)))"
     ],
     "language": "python",
     "metadata": {},
     "outputs": [
      {
       "metadata": {},
       "output_type": "display_data",
       "text": [
        "[1] 0.06909894\n"
       ]
      }
     ],
     "prompt_number": 13
    },
    {
     "cell_type": "markdown",
     "metadata": {},
     "source": [
      "This is the same $p$-value as above."
     ]
    },
    {
     "cell_type": "markdown",
     "metadata": {},
     "source": [
      "Here is $\\theta_s$ from the paper."
     ]
    },
    {
     "cell_type": "code",
     "collapsed": false,
     "input": [
      "theta = sigma**2 * max(norms)**2 / np.dot(Y, np.dot(P, Y))\n",
      "theta"
     ],
     "language": "python",
     "metadata": {},
     "outputs": [
      {
       "metadata": {},
       "output_type": "pyout",
       "prompt_number": 14,
       "text": [
        "array([ 10.29090669])"
       ]
      }
     ],
     "prompt_number": 14
    },
    {
     "cell_type": "code",
     "collapsed": false,
     "input": [],
     "language": "python",
     "metadata": {},
     "outputs": [],
     "prompt_number": 14
    },
    {
     "cell_type": "code",
     "collapsed": false,
     "input": [],
     "language": "python",
     "metadata": {},
     "outputs": [],
     "prompt_number": 14
    }
   ],
   "metadata": {}
  }
 ]
}